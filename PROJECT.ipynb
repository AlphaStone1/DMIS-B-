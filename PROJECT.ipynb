{
 "cells": [
  {
   "attachments": {},
   "cell_type": "markdown",
   "id": "27e4b583-6019-4881-b119-5daef282e741",
   "metadata": {},
   "source": [
    "# Context\r",
    "## Background Information\n",
    "\r\n",
    "For this project, the collection I have selected is MS Farmer 616 (Reeerence Code: GB 247 MS Farmer 616). This collection is a scrapbook album of musical concert programmes, photos, event flyers, advertisements, and general ephemera relating to Glasgow. The scope of this scrapbook album is considerable, with content ranging from 1911 to 194..\r\n"
   ]
  },
  {
   "attachments": {},
   "cell_type": "markdown",
   "id": "a53b0be9-a009-41c6-a106-54af78740228",
   "metadata": {},
   "source": [
    "This collection was compiled by Dr Henry Farmer between 1911 and 1940. Dr Farmer (1882-1965) was a bandsman, musical director, and orientalist. He spent a great deal of time in Glasgow and was involved with many musical projects within the city. During his time in Glasgow, Dr Farmer compiled a scrapbook filled with programmes, flyers, letters, and photographs relating to the performances he was involved with. These performances were predominantly dedicated to supporting various causes, charities, and organizations close to Farmer's heart. The scrapbook highlights the significant issues that gripped Glasgow during this period, demonstrating Farmer’s dedication to fostering community, nurturing national pride, and championing socialist ideals—values that resonated deeply amidst the interwar years and the economic depression in Glasgow. The collection provides the reader an honest representation of Glasgow in the first half of the Twentieth Century. This personal compilation is a fascinating resource for social historians as well as for theatre and music enthusiasts.\n"
   ]
  },
  {
   "cell_type": "markdown",
   "id": "8d12e2fe-68a0-4781-ab5f-d2e0c0f19c96",
   "metadata": {},
   "source": [
    "The collection was gifted to Glasgow University Library Special Collections by Dr Farmer via multiple donations between 1930 and 1965. It can be found in the University of Glasgow Archives and Special Collections on the 11th floor of the University of Glasgow Library, link. Access is open; however, an appointment may be required. If interested, email Archives and Special Collections for advice: library-asc@glasgow.ac.uk"
   ]
  },
  {
   "cell_type": "markdown",
   "id": "7bbbb21a-106a-46c2-a587-6baf1689f6aa",
   "metadata": {},
   "source": [
    "## Objectives\n",
    "\n",
    "My project’s main objective is to engage the broader public with Dr Farmer’s Scrapbook and to invite them to explore the surrounding social and cultural themes stemming from this collection. \n",
    "\n",
    "Much of the scrapbook has content relating to musical performances to raise funds for hospitals, performances to entertain wounded soldiers (World War One), and Remembrance Services. These programs and items all demonstrate attitudes of support, patriotism, and respect for the armed forces. At the time, these sentiments were to be expected. However, throughout the years, our social attitudes towards war have developed. I want people to question if these sentiments of positivity surrounding Global Warfare should be reviewed and perhaps adjust them to be less positive. The initial step of engagement with Farmer's scrapbook is what matters the most. People must first be hooked, before they can evaluate different viewpoints and explore the themes surrounding this collection."
   ]
  },
  {
   "cell_type": "markdown",
   "id": "c5641bdb-65c9-45b9-90bd-bc4c3ccc241b",
   "metadata": {},
   "source": [
    "Farmer’s Scrapbook also helps give the reader an impression and overview of the political sentiment in Glasgow at the time (1911-1940). The contents of the book have strong leanings towards socialism and the left throughout, with many programmes being directly related to these political interests. The interwar years was a time of conflicting political ideologies that impacted everyone. Workers in Glasgow had been impacted negatively and (like other British industrial cities) began looking to the left for solutions, e.g., trades union and socialism. Farmer's scrapbook helps to provide a snapshot of life during this period of Glaswegian history. It is my hope that if the practices in this project were to be properly put in place and developed on a larger scale, it would influence the public to engage more with this period of history. A period of history I find personally very interesting."
   ]
  },
  {
   "cell_type": "markdown",
   "id": "b7a6027a-bd6e-49de-b499-3edb0f2b3d5f",
   "metadata": {},
   "source": [
    "Farmer’s scrapbook offers a fascinating glimpse into what life was like in Glasgow during the years between 1911-1940. When appropriately explored, it gives the reader insight into popular causes/events and the political opinions that shaped the city. I wish to use AI to engage people, so that they may take a further look at this collection, and allow themselves to explore a variety of subjects, including music, World War One and its impacts, along with socialism and trade unionism."
   ]
  },
  {
   "attachments": {},
   "cell_type": "markdown",
   "id": "ee6f9600-6ee5-48cf-9279-ffb7d31b21b4",
   "metadata": {},
   "source": [
    "My project envisions the use of AI to colourise black and white photos, as well as a form of human interaction with the scrapbook and AI. Interaction where people can write a prompt and choose an image from a designated set (via the scrapbook), then input this to an AI tool. The AI will use the prompt and image to create something that can both relate to the present and past. It is my hope that by using AI, I can make the first step in engagement with the broader public. I want to use the attention-grabbing nature of AI to reel people in and get them to engage with the collection. Once I have used AI to engage with the public, they might wish to further explore the social and cultural themes surrounding Farmer’s Scrapbook. Themes which I have previously discussed.\r\n"
   ]
  },
  {
   "attachments": {},
   "cell_type": "markdown",
   "id": "2a6ca068-19d7-4635-a41e-55ab884d48bb",
   "metadata": {},
   "source": [
    "# Methodology\n",
    "## Initial Steps and Research\n",
    "\r\n",
    "To achieve my objectives for this project and engage with the public via human creativity and AI; I first needed to digitise Farmer’s scrapbook. I visited the University of Glasgow’s Archives and Special Collections and reviewed the scrapbook. Using the camera on my phone, I photographed the first 100 pages of the scrapbook. I then transferred these 100 images onto my laptop and persona computer \r\n"
   ]
  },
  {
   "attachments": {},
   "cell_type": "markdown",
   "id": "ff216277-5c86-48be-942a-7e1db5d4cdb0",
   "metadata": {},
   "source": [
    "## My Design \n",
    "My design incorporates generative AI models as part of the human creative process in three unique ways. I used generative AI to:\n",
    "* Colourise black and white photos\n",
    "* Generate music from an image\n",
    "* Generate an image from an existing image and a text-based prompt"
   ]
  },
  {
   "attachments": {},
   "cell_type": "markdown",
   "id": "236de07c-d3cf-43b7-bb7a-6a789ff7e813",
   "metadata": {},
   "source": [
    "The first thing I did was identify and gather pages of the scrapbook which included black and white photos of people. I then edited these pages so that the black and white photos were the focus. I employed an AI tool ‘Photo Colorizer’ via cutout.pro (https://www.cutout.pro/) to colourise black and white photos from the scrapbook. The process was simple, I would upload a black and white image to cutout.pro’s Photo Colourizer, it would output a colourised image, which I would then download to my laptop. The accuracy and depth of colours created by this AI varied image to image, however most of the photos were successfully colourised. Cutout.pro is a suitable tool for my objectives and this project. For people to engage with this collection, they must be able to relate and connect with the people in the scrapbook. The more a collection includes a human element, the easier it is for humans to engage. To colourise black and white images is a critical method in bringing people of the past to life and to close the potential feeling of disconnect people may have with the people in black and white photos. Cutout.pro is a simple and effective tool which makes this method possible."
   ]
  },
  {
   "attachments": {},
   "cell_type": "markdown",
   "id": "8f6411bb-b235-405e-b363-758998970839",
   "metadata": {},
   "source": [
    "Secondly, I identified and gathered the pages which included pamphlets and programmes of musical performances. Again, editing and cropping the images where necessary. I input these pamphlets one by one to an ‘Image to Sound’ AI tool by Melobytes (https://melobytes.com/en/). The AI tool then produced a piece of music for each image, which I then downloaded to my laptop. Melobytes is an apt tool for my project and my objectives as it offers the public the ability to listen to music created by an AI which directly links to the musical performances in Farmer’s scrapbook. Combining this AI generated music with colourised photos of the past gives people the chance to imagine themselves attending these events. Both the public’s sight and hearing will be brought back to the past in this collaboration of human creativity and AI, allowing the public to connect far more deeply with this era of Glasgow than they would normally be capable of. "
   ]
  },
  {
   "cell_type": "markdown",
   "id": "e650c40a-10f9-42bb-a5c1-81fbe5e5e2fc",
   "metadata": {},
   "source": [
    "Lastly, I experimented with AI tools that generated images when given a text-based prompt and an already existing image. I tried Stable Diffusion (https://stablediffusionweb.com/), ArtBreeder (https://www.artbreeder.com/create), and getmig.ai’s ‘Image to Image AI’ (https://getimg.ai/). Upon extensive use of these AI tools, I felt the output of getmig.ai’s AI tool was superior to the others and chose to use this as my primary AI tool. I would input an image of a pamphlet from Farmer’s scrapbook (importantly, one that includes a person’s face) and give the AI tool a text-based prompt. The images I gave the AI where the colourised photos I had already created with the help of a separate AI. For my text-based prompts, I simply wrote the names of famous people: actors, musicians, world leaders etc. For example, I would input an image and then type ‘Ryan Gosling’. I also made it so that the output would maintain a high similarity to the pre-existing image (80%). I wanted to make this project engaging to the public first and foremost. With the hope that once people interact with the collection, they will become interested in exploring the scrapbook’s surrounding themes. Getmig.ai is a valuable tool for my project because it makes engagement with this collection simple and easy. Utilising getmig.ai, I looked towards the public’s considerable obsession with celebrities and famous personalities. If this project were to be upscaled and properly utilised, the public would be capable of interacting with this collection via an AI tool that allows them to choose an image from Farmer’s scrapbook and enter the name of a celebrity. The output of which would be something relating to both the scrapbook and people’s favourite celebrity or idol. This process which the public would have to undergo is quite simple and can be done by non-tech-savvy individuals. I consider this a great way of engaging the public and it invites them to further explore this collection and its surrounding themes. "
   ]
  },
  {
   "cell_type": "markdown",
   "id": "09a50363-f77e-4b02-b964-5a4bcc5c7433",
   "metadata": {},
   "source": [
    "After I had finished working with various AI tools, I decided to showcase my work and the output of AI by creating two videos in Adobe Premier Pro. I imported the necessary pages that I digitised from Farmer’s scrapbook along with the AI generated images and sounds. In the videos I focus on demonstrating the highest quality output of the AI tools used. I believe the videos indicate the potential for public engagement with this collection, embodying the humanity of the past."
   ]
  },
  {
   "attachments": {},
   "cell_type": "markdown",
   "id": "3c0b07e2-f344-4c3d-83b3-11fdbd4fb18d",
   "metadata": {},
   "source": [
    "## How these AI Tools work\r",
    "\r",
    "To understand my design and the AI Tools I used, I must explain how these tools work in terms of the concepts associated with AI algorithms.\r\n"
   ]
  },
  {
   "attachments": {},
   "cell_type": "markdown",
   "id": "f1804260-17c9-43d1-b3c0-88e1c95af2fc",
   "metadata": {},
   "source": [
    "### Colourising Black and White Photos\n",
    "Colourising black and white photos using AI involves employing a machine learning model, i.e., a deep learning model. The model must learn the relationship and mapping between grayscale (input) and coloured images (output). This process and the AI algorithmic techniques used, generally follow the machine learning workflow:"
   ]
  },
  {
   "attachments": {},
   "cell_type": "markdown",
   "id": "ddc7d964-5d7d-4c36-abaa-e1057d8f37dd",
   "metadata": {},
   "source": [
    "Firstly, data must be collected. A large dataset of black and white images as well as corresponding-coloured images must be gathered. These images can come from various sources (historical archives, public datasets etc.) and will serve as the training data for the AI model. The collected images must be pre-processed before being fed into the AI model. This might involve resizing, normalising the data, and converting the images into a suitable format for the model."
   ]
  },
  {
   "attachments": {},
   "cell_type": "markdown",
   "id": "1fbf54b0-e9b0-4cc5-9a6d-52693e3d8c5a",
   "metadata": {},
   "source": [
    "The AI model architecture normally used when colourising black and white images is a deep convolutional neural network (CNN). CNNs are well-suited for image-related tasks as they can learn hierarchical features. The model architecture of the neural network involves multiple layers of convolution, pooling, and upsampling operations. These layers help the model learn hierarchical features from the input grayscale images and generate corresponding colour information."
   ]
  },
  {
   "attachments": {},
   "cell_type": "markdown",
   "id": "f4fb0a64-2983-4309-99a8-de5eb1ac17c2",
   "metadata": {},
   "source": [
    "\n",
    "To colourise grayscale, the CNN would be trained on the dataset of images. The model would be taught how to predict plausible colour versions of grayscale images. This process involves feeding the pre-processed black and white images into the neural network along with corresponding-coloured images. During training, the AI model learns to map the grayscale input images to their corresponding colour representations through a process called backpropagation. This is where the model adjusts its parameters to minimise the difference between predicted colours and the actual true colours. During training, a loss function Is used to measure the difference between the predicted colourised images and the actual true colour image. Typical loss functions include mean squared error (MSE), or perceptual loss, which considers perceptual differences between images. The AI model is then optimised using backpropagation and gradient descent algorithms to minimise the loss function and improve its ability to accurately colourise grayscale images.\r\n"
   ]
  },
  {
   "attachments": {},
   "cell_type": "markdown",
   "id": "a396dd56-e706-4d78-9af1-c3392f977845",
   "metadata": {},
   "source": [
    "Throughout the training process, a portion of the dataset (roughly 20%) is usually set aside to be used as a validation set. This validation set helps monitor the model’s performance on data that it has not seen before. This prevents overfitting (where the model performs well on training data, but poorly on new data)."
   ]
  },
  {
   "attachments": {},
   "cell_type": "markdown",
   "id": "f25d2700-1c68-4b90-a1d9-10b34496bb3f",
   "metadata": {},
   "source": [
    "After training the model, the model is tested and evaluated on a separate validation set to access its performance. Identifying any overfitting or generalisation issues. This dataset should be distinct for both the training and validation sets used before to provide an unbiased estimate of the model’s performance. Once the model performs satisfactorily, it can be deployed and used to colourise black and white photos. Of course, to do this normally involves creating a user-friendly interface where users can input black and white photos and receive the colourised image output. Something cutout.pro has done well."
   ]
  },
  {
   "attachments": {},
   "cell_type": "markdown",
   "id": "976c7a11-fd1c-4646-83bf-9a1d9e90ff30",
   "metadata": {},
   "source": [
    "To summarise, using AI to colourise black and white photos involves training a neural network to learn the mapping between grayscale input and corresponding colour representations, which requires a large dataset of paired images. This process follows the standard machine learning workflow of training, validation, testing and deployment."
   ]
  },
  {
   "attachments": {},
   "cell_type": "markdown",
   "id": "6f263abd-c1b3-454e-9847-38e2a0d6ce82",
   "metadata": {},
   "source": [
    "### Generating music from an image\n",
    "Generating sound and music from an image involves the process of image-to-sound synthesis. This process relies on specific AI techniques, particularly deep learning algorithms. How this process might function within the context of the average machine learning workflow follows as such:"
   ]
  },
  {
   "attachments": {},
   "cell_type": "markdown",
   "id": "be3d4fcd-6677-40b1-8b2c-56cc36cd8228",
   "metadata": {},
   "source": [
    "A dataset must first be collected, containing pairs of images with corresponding sounds. These pairs are essential for the model to learn the relationship between visual features in an image and auditory features in a sound. This data will be pre-processed. To represent the image data in a format that the AI model can understand, the image is converted into a numerical representation, e.g., a matrix of pixel values. With the pixel values of images being normalised and the amplitude of sound clips scaled to a common range. Techniques such as Fourier transforms, or spectrogram representations convert sound clips into a format suitable for machine learning models. This dataset is split into a training and validation set (80% for training, 20% for validation)."
   ]
  },
  {
   "attachments": {},
   "cell_type": "markdown",
   "id": "b3f00ea3-44b3-437e-82f3-86d78502c25c",
   "metadata": {},
   "source": [
    "An appropriate AI model architecture will be used, e.g., a convolutional neural network (CNN), or a Recurrent Neural Network (RNN), or a combination of both, i.e., a Convolutional Recurrent Neural Network. The AI model would be trained on the pre-processed dataset. Using the image-sound pairs, the AI model learns to extract meaningful features from the images and generate corresponding sounds. For example, certain visual patterns or textures in an image may be associated with specific auditory characteristics. The goal of training a machine learning model is to minimise the loss function. For this, a common method might be to use mean squared error (MSE) between the generated sound waveform and the actual sound waveform. MSE calculates the average of the squares of the differences between predicted values and the actual values. In the context of sound waveform generation, it compares the generated sound waveform with the actual sound waveform."
   ]
  },
  {
   "attachments": {},
   "cell_type": "markdown",
   "id": "0e9bed37-fb1b-4026-b05d-0ba14c7553a0",
   "metadata": {},
   "source": [
    "Once the model is trained, it can generate sounds based on new input images. When presented with an image, the model applies its learned feature extraction techniques to the image and generates a sound waveform that corresponds to the image."
   ]
  },
  {
   "attachments": {},
   "cell_type": "markdown",
   "id": "1a5e7f1f-35c7-4ed1-a533-945b4089d791",
   "metadata": {},
   "source": [
    "The model would be integrated into a user-friendly interface (Melobytes) where people can input images and the AI model would generate a sound waveform as an output. The generated sounds would be evaluated using the validation set, basing quality on their similarity to the actual sounds from the training dataset. The model may need to be further refined based on feedback. The AI model may also be periodically retrained with new data to adapt to changes in sound/image trends or simply to improve performance."
   ]
  },
  {
   "attachments": {},
   "cell_type": "markdown",
   "id": "5ec82a29-0087-499b-b29e-c3ad39bcd24e",
   "metadata": {},
   "source": [
    "To conclude, the process of creating sound from an image through AI involves training a deep learning model with paired image-sound data, to learn and map relationships between visual features in images and corresponding auditory features in sounds. This enables the AI model to generate meaningful sounds from new images. This process requires a careful selection of data, model architecture, training, and evaluation techniques to achieve an accurate and high-quality sound synthesis."
   ]
  },
  {
   "attachments": {},
   "cell_type": "markdown",
   "id": "dfe2b20a-f733-4725-9adc-a774276ef435",
   "metadata": {},
   "source": [
    "### Generating an image from an existing image and a text-based prompt\n",
    "Generating new images based on existing images combined with a text-based prompt can be achieved with generative AI models. For instance, AI model architectures such as Generative Adversarial Networks (GANs) or Variational Autoencoder’s (VAEs). These architectures consist of neural networks with intricate designs tailored to generate realistic imagery. The processes relating to the creation of these AI models typically follows the machine learning workflow:"
   ]
  },
  {
   "attachments": {},
   "cell_type": "markdown",
   "id": "2710ee91-65db-45b1-832a-7cd7bd897f53",
   "metadata": {},
   "source": [
    "For this type of generative AI, it starts with an existing image as an input, serving as the base on which modifications will be made. Then the text-based prompt provides the instructions/constraints for modifying the input image. The input image and text-based prompt are processed to extract relevant features. For the image, this might involve a pre-trained convolutional neural network (CNN) to extract high-level features. For the text, techniques such as word embeddings might be used to represent the semantics of the prompt. The extracted features from the image and text prompt are combined and fed into a generator network. This generator network would then learn to produce a new image that satisfies the given instructions/constraints. This generator network would consist of convolutional layers (GANs) or decoder layers (VAEs)."
   ]
  },
  {
   "attachments": {},
   "cell_type": "markdown",
   "id": "b79a2096-0f2f-404a-890b-b95dedd25622",
   "metadata": {},
   "source": [
    "Before training, a substantial dataset of images must be collected. The model uses this dataset to learn from, with images ranging from landscapes to abstract art. The more diverse and representative a dataset is, the more an AI model can generalise. The images are pre-processed to a standardised format, i.e., they are resized, cropped, normalised to ensure consistency throughout training. This AI model would be trained using a dataset of images paired with corresponding text prompts, e.g., an image of a dog would be paired with a text prompt of ‘dog’. During training, the network learns to generate an image that falls within the prompt’s parameters. This involves optimising the network’s parameters to minimise the difference between the generated images and the actual true images. "
   ]
  },
  {
   "attachments": {},
   "cell_type": "markdown",
   "id": "ff727fc8-0130-41ba-a928-da0d04ebbc96",
   "metadata": {},
   "source": [
    "The AI model learns to understand the underlying patterns and features of images in the dataset. In the case of GANs, there are two networks involved, a generator and a discriminator. The generator creates new images, whereas the discriminator distinguishes between real and generated images. Through adversarial training, both networks improve iteratively."
   ]
  },
  {
   "attachments": {},
   "cell_type": "markdown",
   "id": "970ceec5-5f04-4c6a-939e-2205130d9638",
   "metadata": {},
   "source": [
    "Textual prompts can be integrated into the image generation process in different ways. A common method is to concatenate the textual input into the model along with the noise vector or latent space representation. This provides a conditioning mechanism, allowing the generated images to be influenced by the textual input."
   ]
  },
  {
   "attachments": {},
   "cell_type": "markdown",
   "id": "94dbca5b-0196-4cee-8966-64944b359620",
   "metadata": {},
   "source": [
    "Once the generator network is trained, it can be used to generate new images based on text-based prompts. The network absorbs the features extracted from the input image along with the text-based prompt and generates a new image as an output. The generated image should reflect the style, content, and characteristics of the input image and textual prompt."
   ]
  },
  {
   "attachments": {},
   "cell_type": "markdown",
   "id": "702fcf06-7b92-4251-bc92-f2fab3f77fe0",
   "metadata": {},
   "source": [
    "Overall, this process involves utilising both the visual information from the input image and the semantic information from the text-based prompt to generate a new image. The AI model for generating images based on existing images and textual prompts follows the machine learning workflow, which involves data preparation, model training, integration of textual information, and iterative refinement to produces desired outputs."
   ]
  },
  {
   "cell_type": "markdown",
   "id": "781a3617-ff62-4484-819d-1310801c33c4",
   "metadata": {},
   "source": [
    "# Presentation\n",
    "\n",
    "After much thought, I decided that the best way to present my project's outcome was via video format. These videos display all the elements produced by the combined effforts of human creativty and AI tools. In both videos there is background music, these audio clips were generated by an AI (Melobytes) utilising an image of a musical program from Farmer's scrapbook. This music will draw publics' minds into the era of the collection and the related musical performences, imagining themselves a part of history. The black and white photos from Farmer's scrapbook (from the first video), were colourised by an AI tool (cutout.pro). Seeing a black and white photo colourised augments are perception of the past, this allows the public to break down perceived barriars surrounding past generations. People will find it easier to connect with these people, and thusly, the collection. The images of celebrities (from the second video) were also generated by AI, this time utilising existing images from the collection and text-based prompts. If this project were to be scaled up, these text-based prompt would come from the public, a critical engagement. In the context of this project, AI generated celebrities only has one goal, i.e., public engagement. The most important part of any project that wishes people to explore a collection, is to first get them interested and engaged with said collection. I believe I have achieved this by relying on the public's great interst in celebrities."
   ]
  },
  {
   "cell_type": "markdown",
   "id": "0f9fbebd-4753-4ce5-802a-b7dd2fbe71f2",
   "metadata": {},
   "source": [
    "### Colourising Black and White Photos with AI\n",
    "These videos have been uploaded to Youtube. Please ensure that the quality is set to 1080p (in Settings)."
   ]
  },
  {
   "cell_type": "code",
   "execution_count": 1,
   "id": "a95a3789-de7d-4ade-b16c-8e7f0061c8dd",
   "metadata": {},
   "outputs": [
    {
     "data": {
      "image/jpeg": "[encoded data removed]",
      "text/html": [
       "\n",
       "        <iframe\n",
       "            width=\"640\"\n",
       "            height=\"360\"\n",
       "            src=\"https://www.youtube.com/embed/EBQiAaBANjg\"\n",
       "            frameborder=\"0\"\n",
       "            allowfullscreen\n",
       "            \n",
       "        ></iframe>\n",
       "        "
      ],
      "text/plain": [
       "<IPython.lib.display.YouTubeVideo at 0x105dea460>"
      ]
     },
     "execution_count": 1,
     "metadata": {},
     "output_type": "execute_result"
    }
   ],
   "source": [
    "from IPython.display import YouTubeVideo\n",
    "# this allows me to embed YouTube videos directly into Jupyter Notebook \n",
    "\n",
    "# this assigns the video ID of the Youtube video to the variable 'video_id'\n",
    "video_id = 'EBQiAaBANjg'\n",
    "\n",
    "# this assigns different values to variables 'width' and 'height'\n",
    "width = 640\n",
    "height = 360\n",
    "\n",
    "# this displays the YouTube video with the specified width and height\n",
    "YouTubeVideo(video_id, width=width, height=height)"
   ]
  },
  {
   "cell_type": "markdown",
   "id": "61f427d2-1269-4ffb-9fe3-431bfc6598d2",
   "metadata": {},
   "source": [
    "This video displays the output of AI sound generation and AI colourisation. Use this link if video does not display properly https://youtu.be/EBQiAaBANjg "
   ]
  },
  {
   "cell_type": "markdown",
   "id": "47c2a939-e9b9-4093-8c66-08deb66832ea",
   "metadata": {},
   "source": [
    "### AI Generated Celebrities"
   ]
  },
  {
   "cell_type": "code",
   "execution_count": 2,
   "id": "2b87aaa6-025b-4846-8ebc-9fbb02a1c16f",
   "metadata": {},
   "outputs": [
    {
     "data": {
      "image/jpeg": "[encoded data removed]",
      "text/html": [
       "\n",
       "        <iframe\n",
       "            width=\"640\"\n",
       "            height=\"360\"\n",
       "            src=\"https://www.youtube.com/embed/k9NgnrOtJUI\"\n",
       "            frameborder=\"0\"\n",
       "            allowfullscreen\n",
       "            \n",
       "        ></iframe>\n",
       "        "
      ],
      "text/plain": [
       "<IPython.lib.display.YouTubeVideo at 0x105dcd970>"
      ]
     },
     "execution_count": 2,
     "metadata": {},
     "output_type": "execute_result"
    }
   ],
   "source": [
    "from IPython.display import YouTubeVideo\n",
    "\n",
    "video_id = 'k9NgnrOtJUI'\n",
    "\n",
    "width = 640\n",
    "height = 360\n",
    "\n",
    "YouTubeVideo(video_id, width=width, height=height)"
   ]
  },
  {
   "cell_type": "markdown",
   "id": "a90e74ae-6ee1-420f-92a4-e648ce4e8df8",
   "metadata": {},
   "source": [
    "This video displays the output of AI sound generation and AI image generation. Use this link if video does not display properly https://youtu.be/k9NgnrOtJUI "
   ]
  },
  {
   "cell_type": "markdown",
   "id": "0c85146b-cefb-4441-b4b0-e59663efe550",
   "metadata": {},
   "source": [
    "## Final Discussion\n",
    "\n",
    "The collection MS Farmer 616, formed by Dr Henry Farmer, is of considerable quality and within it holds incredibly interesting themes of war, socialism, and music. This collection contains physical scraps of history and represents Glasgow's in a very natural form. With the collaboration between human creativity and AI, my project has achieved what it set out to. Namely, to be intersting to the public and engage with their basic desire to be entertained and informed. I believe that if a website and certain AI tools were developed for this collection, inspired by ideas from my project, this would greatly interest the public. The initial draw would of course be the attention-grabbing AI generated celebrities, but once engaged and interested with the collection, people would explore the surroudning themes. Combine this with a digitised version of the scrapbook along with annotated information, this would be a critical success. I hope people find this collection as interesting as I do. "
   ]
  }
 ],
 "metadata": {
  "kernelspec": {
   "display_name": "Python 3 (ipykernel)",
   "language": "python",
   "name": "python3"
  },
  "language_info": {
   "codemirror_mode": {
    "name": "ipython",
    "version": 3
   },
   "file_extension": ".py",
   "mimetype": "text/x-python",
   "name": "python",
   "nbconvert_exporter": "python",
   "pygments_lexer": "ipython3",
   "version": "3.9.18"
  }
 },
 "nbformat": 4,
 "nbformat_minor": 5
}
